{
 "cells": [
  {
   "cell_type": "markdown",
   "id": "f91e6910",
   "metadata": {},
   "source": [
    "#### Task\n",
    ". Взять датасет для классификации https://www.kaggle.com/datasets/bhavikjikadara/dog-and-cat-classification-dataset, разбить на train-test-val (cat_filenames = glob(cat/*png), dog_filenames = glob(dog/*png), на треин 80%, на тест и валидацию по 10%), сохранить в pandas.DataFrame()).\n",
    "\n",
    "2. Обучить resnet18 для классификации (подобрать порог, чтобы пресижн был 0.9). Разрешено использовать готовый чекпоинт, указав ссылку на него.\n",
    "\n",
    "3. Сконвертировать модель в fp32 и fp16.\n",
    "\n",
    "4. Собрать тритон ансамбль со следующими условиями:\n",
    "\n",
    "   Пайплайн: препроцессинг -> [[инференс_fp16 -> постпроцессинг_fp16], [инференс_fp32 -> постпроцессинг_fp32]], где построцессинг_fp16 и построцессинг_fp32 считают скор и вердикт по одному и тому же трешхолду (иными словами здесь подразумевается общий препроцессинг и 2 параллельных инференса). На выход выдаются score_fp16, verdict_fp16, score_fp32, verdict_fp32.\n",
    "\n",
    "5. Посчитать метрики для fp32 и fp16, изпользуя выходные значения ансамбля. Разрешено сокращать тестовый датасет сэмплом со сбалансированными классами на 200 объектов.\n",
    "\n",
    "Результат:\n",
    "\n",
    "В качестве результата ожидается собранный zip архив, в котором находятся:\n",
    "\n",
    "1. Директории тритон-моделей для ансамбля (без файлов сборки докера или venv, упакуйте conda pack).\n",
    "\n",
    "2. Jupyter Notebook с конвертацией модели (и обучением, если обучали сами).\n",
    "\n",
    "3. Jupyter Notebook с подсчетом метрик для fp32 и fp16"
   ]
  },
  {
   "cell_type": "markdown",
   "id": "3243008f",
   "metadata": {},
   "source": [
    "### Download the dataset"
   ]
  },
  {
   "cell_type": "code",
   "execution_count": 9,
   "id": "b5c57a7a",
   "metadata": {},
   "outputs": [
    {
     "name": "stdout",
     "output_type": "stream",
     "text": [
      " ’®¬ ў гбва®©бвўҐ D Ё¬ҐҐв ¬ҐвЄг Windows\n",
      " ‘ҐаЁ©­л© ­®¬Ґа в®¬ : 8AB2-5F5C\n",
      "\n",
      " ‘®¤Ґа¦Ё¬®Ґ Ї ЇЄЁ D:\\E\\Copy\\PyCharm\\Hometask\\ml_hard_models_2025\\hw3\\PetImages\n",
      "\n",
      "12.03.2025  17:26    <DIR>          .\n",
      "12.03.2025  17:26    <DIR>          ..\n",
      "12.03.2025  17:26    <DIR>          Cat\n",
      "12.03.2025  17:34    <DIR>          Dog\n",
      "               0 д ©«®ў              0 Ў ©в\n",
      "               4 Ї Ї®Є  370я934я710я272 Ў ©в бў®Ў®¤­®\n"
     ]
    }
   ],
   "source": [
    "!dir PetImages"
   ]
  },
  {
   "cell_type": "code",
   "execution_count": 4,
   "id": "664bcdf1",
   "metadata": {},
   "outputs": [
    {
     "name": "stdout",
     "output_type": "stream",
     "text": [
      "D:\\E\\Downloads\\Anaconda\\python.exe\n",
      "3.11.5 | packaged by Anaconda, Inc. | (main, Sep 11 2023, 13:26:23) [MSC v.1916 64 bit (AMD64)]\n"
     ]
    }
   ],
   "source": [
    "import sys\n",
    "print(sys.executable)\n",
    "print(sys.version)"
   ]
  },
  {
   "cell_type": "code",
   "execution_count": 11,
   "id": "82e72e9c",
   "metadata": {},
   "outputs": [
    {
     "name": "stdout",
     "output_type": "stream",
     "text": [
      "Train: 19998\n",
      "Val: 2500\n",
      "Test: 2500\n"
     ]
    }
   ],
   "source": [
    "import pandas as pd\n",
    "import glob\n",
    "import random\n",
    "from sklearn.model_selection import train_test_split\n",
    "\n",
    "cat_filenames = glob.glob('PetImages/Cat/*.jpg')\n",
    "dog_filenames = glob.glob('PetImages/Dog/*.jpg')\n",
    "\n",
    "cat_labels = [0] * len(cat_filenames)  # 0 for cats\n",
    "dog_labels = [1] * len(dog_filenames)  # 1 for dogs\n",
    "\n",
    "all_filenames = cat_filenames + dog_filenames\n",
    "all_labels = cat_labels + dog_labels\n",
    "train_filenames, temp_filenames, train_labels, temp_labels = train_test_split(\n",
    "    all_filenames, all_labels, test_size=0.2, random_state=666\n",
    ")\n",
    "val_filenames, test_filenames, val_labels, test_labels = train_test_split(\n",
    "    temp_filenames, temp_labels, test_size=0.5, random_state=666\n",
    ")\n",
    "\n",
    "train_df = pd.DataFrame({'filename': train_filenames, 'label': train_labels})\n",
    "val_df = pd.DataFrame({'filename': val_filenames, 'label': val_labels})\n",
    "test_df = pd.DataFrame({'filename': test_filenames, 'label': test_labels})\n",
    "\n",
    "train_df.to_csv('train.csv', index=False)\n",
    "val_df.to_csv('val.csv', index=False)\n",
    "test_df.to_csv('test.csv', index=False)\n",
    "\n",
    "print(f\"Train: {len(train_df)}\")\n",
    "print(f\"Val: {len(val_df)}\")\n",
    "print(f\"Test: {len(test_df)}\")"
   ]
  },
  {
   "cell_type": "markdown",
   "id": "1ebfee16",
   "metadata": {},
   "source": [
    "### Fuck it, use a checkpoint (I ain't gonna train with cpu)\n",
    "Here's the project I shall use: https://huggingface.co/hilmansw/resnet18-catdog-classifier\n",
    "Also I AM aware I used validation for the threshold... either way it's a checkpoint I found so it's only natural to be 0.5"
   ]
  },
  {
   "cell_type": "code",
   "execution_count": 12,
   "id": "059f47d9",
   "metadata": {},
   "outputs": [
    {
     "data": {
      "application/vnd.jupyter.widget-view+json": {
       "model_id": "6b05c80372744d8aa7d298736e177a2b",
       "version_major": 2,
       "version_minor": 0
      },
      "text/plain": [
       "Downloading (…)rocessor_config.json:   0%|          | 0.00/410 [00:00<?, ?B/s]"
      ]
     },
     "metadata": {},
     "output_type": "display_data"
    },
    {
     "name": "stderr",
     "output_type": "stream",
     "text": [
      "D:\\E\\Downloads\\Anaconda\\Lib\\site-packages\\huggingface_hub\\file_download.py:133: UserWarning: `huggingface_hub` cache-system uses symlinks by default to efficiently store duplicated files but your machine does not support them in C:\\Users\\ulyan\\.cache\\huggingface\\hub. Caching files will still work but in a degraded version that might require more space on your disk. This warning can be disabled by setting the `HF_HUB_DISABLE_SYMLINKS_WARNING` environment variable. For more details, see https://huggingface.co/docs/huggingface_hub/how-to-cache#limitations.\n",
      "To support symlinks on Windows, you either need to activate Developer Mode or to run Python as an administrator. In order to see activate developer mode, see this article: https://docs.microsoft.com/en-us/windows/apps/get-started/enable-your-device-for-development\n",
      "  warnings.warn(message)\n",
      "D:\\E\\Downloads\\Anaconda\\Lib\\site-packages\\transformers\\models\\convnext\\feature_extraction_convnext.py:28: FutureWarning: The class ConvNextFeatureExtractor is deprecated and will be removed in version 5 of Transformers. Please use ConvNextImageProcessor instead.\n",
      "  warnings.warn(\n"
     ]
    },
    {
     "data": {
      "application/vnd.jupyter.widget-view+json": {
       "model_id": "03c466dd73f04546b9248fd88806f459",
       "version_major": 2,
       "version_minor": 0
      },
      "text/plain": [
       "Downloading config.json:   0%|          | 0.00/696 [00:00<?, ?B/s]"
      ]
     },
     "metadata": {},
     "output_type": "display_data"
    },
    {
     "data": {
      "application/vnd.jupyter.widget-view+json": {
       "model_id": "6699df0ef51e4384902ac76bf380d2ac",
       "version_major": 2,
       "version_minor": 0
      },
      "text/plain": [
       "Downloading pytorch_model.bin:   0%|          | 0.00/44.8M [00:00<?, ?B/s]"
      ]
     },
     "metadata": {},
     "output_type": "display_data"
    }
   ],
   "source": [
    "from transformers import AutoImageProcessor, AutoModelForImageClassification\n",
    "\n",
    "processor = AutoImageProcessor.from_pretrained(\"hilmansw/resnet18-catdog-classifier\")\n",
    "model = AutoModelForImageClassification.from_pretrained(\"hilmansw/resnet18-catdog-classifier\")"
   ]
  },
  {
   "cell_type": "code",
   "execution_count": 13,
   "id": "54a8babb",
   "metadata": {},
   "outputs": [],
   "source": [
    "import numpy as np\n",
    "from sklearn.metrics import roc_auc_score, precision_recall_curve, roc_curve, auc, precision_score\n",
    "import matplotlib.pyplot as plt\n",
    "from tqdm import tqdm\n",
    "import torch\n",
    "from PIL import Image\n",
    "\n",
    "def predict_probabilities(dataframe, processor, model, batch_size=32):\n",
    "    probabilities = []\n",
    "    model.eval()\n",
    "\n",
    "    for i in tqdm(range(0, len(dataframe), batch_size), desc=\"Processing...\"):\n",
    "        batch_filenames = dataframe.loc[i:min(i + batch_size-1, len(dataframe)-1), \"filename\"].tolist()\n",
    "        images = []\n",
    "        for filename in batch_filenames:\n",
    "            try:\n",
    "                image = Image.open(filename).convert(\"RGB\")\n",
    "                images.append(image)\n",
    "            except (FileNotFoundError, PIL.UnidentifiedImageError) as e:\n",
    "                print(f\"Error loading image {filename}: {e}\")\n",
    "                probabilities.append(None)\n",
    "                continue\n",
    "\n",
    "        if images:\n",
    "            try:\n",
    "                inputs = processor(images=images, return_tensors=\"pt\", padding=True, truncation=True)\n",
    "                with torch.no_grad():\n",
    "                    outputs = model(**inputs)\n",
    "                    logits = outputs.logits\n",
    "                    probabilities_batch = torch.softmax(logits, dim=1)[:, 1].tolist()\n",
    "                    probabilities.extend(probabilities_batch)\n",
    "            except Exception as e:\n",
    "                print(f\"Error processing batch: {e}\")\n",
    "                probabilities.extend([None] * len(images))\n",
    "\n",
    "    return probabilities"
   ]
  },
  {
   "cell_type": "code",
   "execution_count": 32,
   "id": "3e5fa32b",
   "metadata": {},
   "outputs": [
    {
     "data": {
      "text/plain": [
       "{'shortest_edge': 224}"
      ]
     },
     "execution_count": 32,
     "metadata": {},
     "output_type": "execute_result"
    }
   ],
   "source": [
    "processor.size"
   ]
  },
  {
   "cell_type": "code",
   "execution_count": 35,
   "id": "131fb1a1",
   "metadata": {},
   "outputs": [
    {
     "name": "stdout",
     "output_type": "stream",
     "text": [
      "Input shape: torch.Size([1, 3, 224, 224])\n",
      "Output shape: torch.Size([1, 2])\n"
     ]
    }
   ],
   "source": [
    "filename = train_df.loc[0, \"filename\"]\n",
    "image = Image.open(filename).convert(\"RGB\")\n",
    "inputs = processor(images=[image], return_tensors=\"pt\", padding=True, truncation=True)\n",
    "print(f'Input shape: {inputs[\"pixel_values\"].shape}')\n",
    "with torch.no_grad():\n",
    "    outputs = model(**inputs)\n",
    "    logits = outputs.logits\n",
    "print(f\"Output shape: {logits.shape}\")"
   ]
  },
  {
   "cell_type": "code",
   "execution_count": 14,
   "id": "447bb729",
   "metadata": {},
   "outputs": [
    {
     "name": "stderr",
     "output_type": "stream",
     "text": [
      "Processing...: 100%|███████████████████████████████████████████████████████████████████| 79/79 [03:41<00:00,  2.81s/it]"
     ]
    },
    {
     "name": "stdout",
     "output_type": "stream",
     "text": [
      "CPU times: total: 6min 7s\n",
      "Wall time: 3min 41s\n"
     ]
    },
    {
     "name": "stderr",
     "output_type": "stream",
     "text": [
      "\n"
     ]
    }
   ],
   "source": [
    "%%time\n",
    "val_probabilities = predict_probabilities(val_df, processor, model)"
   ]
  },
  {
   "cell_type": "code",
   "execution_count": 16,
   "id": "75914975",
   "metadata": {},
   "outputs": [],
   "source": [
    "val_probabilities = np.array(val_probabilities)"
   ]
  },
  {
   "cell_type": "code",
   "execution_count": 17,
   "id": "d3a59f71",
   "metadata": {},
   "outputs": [
    {
     "name": "stdout",
     "output_type": "stream",
     "text": [
      "Optimal threshold with 0.9 precision: 0.5\n"
     ]
    }
   ],
   "source": [
    "from sklearn.metrics import precision_score\n",
    "\n",
    "def find_optimal_threshold(probabilities, labels, target_precision=0.9):\n",
    "    sorted_indices = np.argsort(-probabilities)\n",
    "    sorted_probabilities = probabilities[sorted_indices]\n",
    "    sorted_labels = labels[sorted_indices]\n",
    "\n",
    "    tp = 0\n",
    "    fp = 0\n",
    "    n_labels = len(labels)\n",
    "\n",
    "    for i in range(n_labels):\n",
    "        if sorted_labels[i] == 1:\n",
    "            tp += 1\n",
    "        else:\n",
    "            fp += 1\n",
    "\n",
    "        precision = tp / (tp + fp)\n",
    "\n",
    "        if precision >= target_precision:\n",
    "            optimal_threshold = sorted_probabilities[i]\n",
    "            return optimal_threshold\n",
    "\n",
    "    return 0.5\n",
    "\n",
    "# probabilities = np.exp(all_logits[:, 1]) / np.sum(np.exp(all_logits), axis=1)\n",
    "optimal_threshold = find_optimal_threshold(val_probabilities, val_df[\"label\"], target_precision=0.9)\n",
    "print(f\"Optimal threshold with 0.9 precision: {optimal_threshold}\")"
   ]
  },
  {
   "cell_type": "code",
   "execution_count": 18,
   "id": "b16b8f5c",
   "metadata": {},
   "outputs": [
    {
     "name": "stdout",
     "output_type": "stream",
     "text": [
      "ROC AUC: 0.9928134354005987\n"
     ]
    },
    {
     "data": {
      "image/png": "[encoded data removed]",
      "text/plain": [
       "<Figure size 800x600 with 1 Axes>"
      ]
     },
     "metadata": {},
     "output_type": "display_data"
    }
   ],
   "source": [
    "roc_auc = roc_auc_score(val_df[\"label\"], val_probabilities)\n",
    "print(f\"ROC AUC: {roc_auc}\")\n",
    "\n",
    "fpr, tpr, thresholds = roc_curve(val_df[\"label\"], val_probabilities)\n",
    "plt.figure(figsize=(8, 6))\n",
    "plt.plot(fpr, tpr, label=f'ROC curve (area = {roc_auc:.2f})')\n",
    "plt.plot([0, 1], [0, 1], 'k--')\n",
    "plt.xlabel('False Positive Rate')\n",
    "plt.ylabel('True Positive Rate')\n",
    "plt.title('ROC Curve')\n",
    "plt.xlim([0.0, 1.0])\n",
    "plt.ylim([0.0, 1.05])\n",
    "plt.show()"
   ]
  },
  {
   "cell_type": "markdown",
   "id": "a2b2650c",
   "metadata": {},
   "source": [
    "### Models to fp32 и fp16."
   ]
  },
  {
   "cell_type": "code",
   "execution_count": null,
   "id": "8ac69340",
   "metadata": {},
   "outputs": [],
   "source": [
    "import onnxruntime as ort\n"
   ]
  },
  {
   "cell_type": "code",
   "execution_count": 22,
   "id": "9c326c5b",
   "metadata": {},
   "outputs": [
    {
     "name": "stdout",
     "output_type": "stream",
     "text": [
      " ’®¬ ў гбва®©бвўҐ D Ё¬ҐҐв ¬ҐвЄг Windows\n",
      " ‘ҐаЁ©­л© ­®¬Ґа в®¬ : 8AB2-5F5C\n",
      "\n",
      " ‘®¤Ґа¦Ё¬®Ґ Ї ЇЄЁ D:\\E\\Copy\\PyCharm\\Hometask\\ml_hard_models_2025\\hw3\\model_repository\n",
      "\n",
      "12.03.2025  21:08    <DIR>          .\n",
      "12.03.2025  21:08    <DIR>          ..\n",
      "12.03.2025  21:04    <DIR>          resnet_concat_ensemble\n",
      "12.03.2025  21:04    <DIR>          resnet_concat_preprocessing\n",
      "12.03.2025  21:04    <DIR>          resnet_ensemble\n",
      "12.03.2025  21:07    <DIR>          resnet_model_fp16\n",
      "12.03.2025  21:08    <DIR>          resnet_model_fp32\n",
      "12.03.2025  21:04    <DIR>          resnet_postprocessing\n",
      "12.03.2025  21:04    <DIR>          resnet_preprocessing\n",
      "12.03.2025  21:04    <DIR>          resnet_preprocessing_v2\n",
      "12.03.2025  19:09             8я200 triton_model_client.py\n",
      "               1 д ©«®ў          8я200 Ў ©в\n",
      "              10 Ї Ї®Є  370я887я352я320 Ў ©в бў®Ў®¤­®\n"
     ]
    }
   ],
   "source": [
    "!dir model_repository"
   ]
  },
  {
   "cell_type": "code",
   "execution_count": 36,
   "id": "801434d9",
   "metadata": {},
   "outputs": [],
   "source": [
    "PREFIX_MODELS = \"model_repository\""
   ]
  },
  {
   "cell_type": "code",
   "execution_count": 41,
   "id": "ca86d0d2",
   "metadata": {},
   "outputs": [
    {
     "name": "stdout",
     "output_type": "stream",
     "text": [
      "FP32 ONNX model exported to: model_repository\\resnet_model_fp32\\1\\model.onnx\n"
     ]
    }
   ],
   "source": [
    "import os\n",
    "import onnx\n",
    "\n",
    "dummy_image = torch.randn(3, 224, 224)\n",
    "dummy_image = (dummy_image - dummy_image.min()) / (dummy_image.max() - dummy_image.min())\n",
    "dummy_image = Image.fromarray(np.uint8(dummy_image * 255).transpose(1, 2, 0))\n",
    "dummy_input = processor(images=dummy_image, return_tensors=\"pt\")\n",
    "dummy_input = dummy_input[\"pixel_values\"]\n",
    "\n",
    "input_names = [\"input\"]\n",
    "output_names = [\"output\"]\n",
    "\n",
    "dynamic_axes = {\n",
    "    \"input\": {0: \"batch_size\"},\n",
    "    \"output\": {0: \"batch_size\"},\n",
    "}\n",
    "\n",
    "onnx_path_fp32 = os.path.join(PREFIX_MODELS, \"resnet_model_fp32\", \"1\", \"model.onnx\")\n",
    "os.makedirs(os.path.dirname(onnx_path_fp32), exist_ok=True)\n",
    "\n",
    "model.eval()\n",
    "with torch.no_grad():\n",
    "    torch.onnx.export(\n",
    "        model,\n",
    "        dummy_input,\n",
    "        onnx_path_fp32,\n",
    "        opset_version=13,\n",
    "        input_names=input_names,\n",
    "        output_names=output_names,\n",
    "        dynamic_axes=dynamic_axes,\n",
    "        do_constant_folding=True,\n",
    "        verbose=False,\n",
    "    )\n",
    "\n",
    "onnx_model_fp32 = onnx.load(onnx_path_fp32)\n",
    "onnx.checker.check_model(onnx_model_fp32)\n",
    "print(f\"FP32 ONNX model exported to: {onnx_path_fp32}\")"
   ]
  },
  {
   "cell_type": "code",
   "execution_count": 44,
   "id": "cba3d342",
   "metadata": {},
   "outputs": [
    {
     "name": "stderr",
     "output_type": "stream",
     "text": [
      "D:\\E\\Downloads\\Anaconda\\Lib\\site-packages\\onnxconverter_common\\float16.py:43: UserWarning: the float32 number 8.522016349426747e-17 will be truncated to 1e-07\n",
      "  warnings.warn(\"the float32 number {} will be truncated to {}\".format(pos_min, min_positive_val))\n",
      "D:\\E\\Downloads\\Anaconda\\Lib\\site-packages\\onnxconverter_common\\float16.py:53: UserWarning: the float32 number -1.0364713365121326e-16 will be truncated to -1e-07\n",
      "  warnings.warn(\"the float32 number {} will be truncated to {}\".format(neg_max, -min_positive_val))\n",
      "D:\\E\\Downloads\\Anaconda\\Lib\\site-packages\\onnxconverter_common\\float16.py:53: UserWarning: the float32 number -1.6564982274758222e-08 will be truncated to -1e-07\n",
      "  warnings.warn(\"the float32 number {} will be truncated to {}\".format(neg_max, -min_positive_val))\n",
      "D:\\E\\Downloads\\Anaconda\\Lib\\site-packages\\onnxconverter_common\\float16.py:43: UserWarning: the float32 number 1.0156333239697002e-12 will be truncated to 1e-07\n",
      "  warnings.warn(\"the float32 number {} will be truncated to {}\".format(pos_min, min_positive_val))\n",
      "D:\\E\\Downloads\\Anaconda\\Lib\\site-packages\\onnxconverter_common\\float16.py:53: UserWarning: the float32 number -1.4567479167393316e-12 will be truncated to -1e-07\n",
      "  warnings.warn(\"the float32 number {} will be truncated to {}\".format(neg_max, -min_positive_val))\n",
      "D:\\E\\Downloads\\Anaconda\\Lib\\site-packages\\onnxconverter_common\\float16.py:53: UserWarning: the float32 number -5.691893179005092e-08 will be truncated to -1e-07\n",
      "  warnings.warn(\"the float32 number {} will be truncated to {}\".format(neg_max, -min_positive_val))\n",
      "D:\\E\\Downloads\\Anaconda\\Lib\\site-packages\\onnxconverter_common\\float16.py:53: UserWarning: the float32 number -1.5350000381886275e-08 will be truncated to -1e-07\n",
      "  warnings.warn(\"the float32 number {} will be truncated to {}\".format(neg_max, -min_positive_val))\n",
      "D:\\E\\Downloads\\Anaconda\\Lib\\site-packages\\onnxconverter_common\\float16.py:43: UserWarning: the float32 number 3.754085753371328e-08 will be truncated to 1e-07\n",
      "  warnings.warn(\"the float32 number {} will be truncated to {}\".format(pos_min, min_positive_val))\n",
      "D:\\E\\Downloads\\Anaconda\\Lib\\site-packages\\onnxconverter_common\\float16.py:43: UserWarning: the float32 number 7.597208906418018e-08 will be truncated to 1e-07\n",
      "  warnings.warn(\"the float32 number {} will be truncated to {}\".format(pos_min, min_positive_val))\n",
      "D:\\E\\Downloads\\Anaconda\\Lib\\site-packages\\onnxconverter_common\\float16.py:53: UserWarning: the float32 number -8.252833083588484e-09 will be truncated to -1e-07\n",
      "  warnings.warn(\"the float32 number {} will be truncated to {}\".format(neg_max, -min_positive_val))\n",
      "D:\\E\\Downloads\\Anaconda\\Lib\\site-packages\\onnxconverter_common\\float16.py:43: UserWarning: the float32 number 1.1137180067066765e-08 will be truncated to 1e-07\n",
      "  warnings.warn(\"the float32 number {} will be truncated to {}\".format(pos_min, min_positive_val))\n",
      "D:\\E\\Downloads\\Anaconda\\Lib\\site-packages\\onnxconverter_common\\float16.py:53: UserWarning: the float32 number -1.0291270058360169e-08 will be truncated to -1e-07\n",
      "  warnings.warn(\"the float32 number {} will be truncated to {}\".format(neg_max, -min_positive_val))\n",
      "D:\\E\\Downloads\\Anaconda\\Lib\\site-packages\\onnxconverter_common\\float16.py:53: UserWarning: the float32 number -3.0467841583003974e-09 will be truncated to -1e-07\n",
      "  warnings.warn(\"the float32 number {} will be truncated to {}\".format(neg_max, -min_positive_val))\n",
      "D:\\E\\Downloads\\Anaconda\\Lib\\site-packages\\onnxconverter_common\\float16.py:43: UserWarning: the float32 number 3.959367589345675e-08 will be truncated to 1e-07\n",
      "  warnings.warn(\"the float32 number {} will be truncated to {}\".format(pos_min, min_positive_val))\n",
      "D:\\E\\Downloads\\Anaconda\\Lib\\site-packages\\onnxconverter_common\\float16.py:53: UserWarning: the float32 number -4.048055757266411e-08 will be truncated to -1e-07\n",
      "  warnings.warn(\"the float32 number {} will be truncated to {}\".format(neg_max, -min_positive_val))\n",
      "D:\\E\\Downloads\\Anaconda\\Lib\\site-packages\\onnxconverter_common\\float16.py:43: UserWarning: the float32 number 1.1530373988932752e-08 will be truncated to 1e-07\n",
      "  warnings.warn(\"the float32 number {} will be truncated to {}\".format(pos_min, min_positive_val))\n",
      "D:\\E\\Downloads\\Anaconda\\Lib\\site-packages\\onnxconverter_common\\float16.py:53: UserWarning: the float32 number -2.983991720384438e-08 will be truncated to -1e-07\n",
      "  warnings.warn(\"the float32 number {} will be truncated to {}\".format(neg_max, -min_positive_val))\n",
      "D:\\E\\Downloads\\Anaconda\\Lib\\site-packages\\onnxconverter_common\\float16.py:43: UserWarning: the float32 number 9.32135879594398e-09 will be truncated to 1e-07\n",
      "  warnings.warn(\"the float32 number {} will be truncated to {}\".format(pos_min, min_positive_val))\n",
      "D:\\E\\Downloads\\Anaconda\\Lib\\site-packages\\onnxconverter_common\\float16.py:43: UserWarning: the float32 number 2.5100326261906503e-09 will be truncated to 1e-07\n",
      "  warnings.warn(\"the float32 number {} will be truncated to {}\".format(pos_min, min_positive_val))\n",
      "D:\\E\\Downloads\\Anaconda\\Lib\\site-packages\\onnxconverter_common\\float16.py:53: UserWarning: the float32 number -1.9661632322254263e-08 will be truncated to -1e-07\n",
      "  warnings.warn(\"the float32 number {} will be truncated to {}\".format(neg_max, -min_positive_val))\n",
      "D:\\E\\Downloads\\Anaconda\\Lib\\site-packages\\onnxconverter_common\\float16.py:43: UserWarning: the float32 number 8.630733105974286e-08 will be truncated to 1e-07\n",
      "  warnings.warn(\"the float32 number {} will be truncated to {}\".format(pos_min, min_positive_val))\n"
     ]
    },
    {
     "data": {
      "text/plain": [
       "'model_repository\\\\resnet_model_fp16\\\\1\\\\model.onnx'"
      ]
     },
     "execution_count": 44,
     "metadata": {},
     "output_type": "execute_result"
    }
   ],
   "source": [
    "from onnxconverter_common import float16\n",
    "device = torch.device(\"cuda\" if torch.cuda.is_available() else \"cpu\")\n",
    "model.to(device)\n",
    "dummy_input = dummy_input.to(device)\n",
    "\n",
    "onnx_path_fp16 = os.path.join(PREFIX_MODELS, \"resnet_model_fp16\", \"1\", \"model.onnx\")\n",
    "os.makedirs(os.path.dirname(onnx_path_fp16), exist_ok=True)\n",
    "\n",
    "onnx_model_fp16 = float16.convert_float_to_float16(onnx_model_fp32)\n",
    "onnx.save(onnx_model_fp16, onnx_path_fp16)\n",
    "onnx.checker.check_model(onnx_model_fp16)\n",
    "onnx_path_fp16"
   ]
  },
  {
   "cell_type": "markdown",
   "id": "dcfbf290",
   "metadata": {},
   "source": [
    "### Try to connect (no)"
   ]
  },
  {
   "cell_type": "code",
   "execution_count": null,
   "id": "4619801b",
   "metadata": {},
   "outputs": [],
   "source": []
  }
 ],
 "metadata": {
  "kernelspec": {
   "display_name": "Python 3 (ipykernel)",
   "language": "python",
   "name": "python3"
  },
  "language_info": {
   "codemirror_mode": {
    "name": "ipython",
    "version": 3
   },
   "file_extension": ".py",
   "mimetype": "text/x-python",
   "name": "python",
   "nbconvert_exporter": "python",
   "pygments_lexer": "ipython3",
   "version": "3.11.5"
  }
 },
 "nbformat": 4,
 "nbformat_minor": 5
}
